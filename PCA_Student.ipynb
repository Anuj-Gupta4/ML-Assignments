{
 "cells": [
  {
   "cell_type": "markdown",
   "metadata": {
    "deletable": false,
    "editable": false,
    "id": "U18G-j6mDv4W",
    "nbgrader": {
     "cell_type": "markdown",
     "checksum": "3e489face86f7d39d9bad119c916a993",
     "grade": false,
     "grade_id": "cell-f4be02b3a06efbf6",
     "locked": true,
     "schema_version": 3,
     "solution": false
    }
   },
   "source": [
    "\n",
    "# Prerequisities\n",
    "\n",
    "- Reading Notebooks of Dimensionality Reduction\n",
    "  - Dimensionality Reduction and Singular Value Decomposition (SVD)\n",
    "  - Principal Component Analysis (PCA)"
   ]
  },
  {
   "cell_type": "markdown",
   "metadata": {
    "deletable": false,
    "editable": false,
    "id": "uEF4RHDa8w5X",
    "nbgrader": {
     "cell_type": "markdown",
     "checksum": "d3d8d2dfcd48bee49c09027af52f610d",
     "grade": false,
     "grade_id": "cell-7a0ef9c5f9f3ee3f",
     "locked": true,
     "schema_version": 3,
     "solution": false
    }
   },
   "source": [
    "# **Kernel PCA for Non-Linear Data**\n",
    "\n",
    "**[TOTAL POINTS: 10]**\n",
    "\n",
    "## **Motivation**\n",
    "\n",
    "In this assignment, you will reduce the linear data dimension using classical PCA and use Kernel PCA to reduce the dimension of non linearly separable data. Let's get started.\n",
    "\n",
    "## **Learning Objective**\n",
    "\n",
    "By the end of this assignment, a student should be able to\n",
    "\n",
    "- Reduce the dimension of the linear and non-linear dataset with the help of principal components.\n",
    "\n",
    "- Plot PCA transformed data, and Kernel PCA transformed data.\n",
    "\n"
   ]
  },
  {
   "cell_type": "markdown",
   "metadata": {
    "deletable": false,
    "editable": false,
    "id": "5rekYfLblSRR",
    "nbgrader": {
     "cell_type": "markdown",
     "checksum": "702cb7c7d6f867ce8c2b65551477d527",
     "grade": false,
     "grade_id": "cell-c303d17ec8f56909",
     "locked": true,
     "schema_version": 3,
     "solution": false
    }
   },
   "source": [
    "# Imports\n",
    "\n",
    "First, let us import the global packages that we need throughout the assignment. "
   ]
  },
  {
   "cell_type": "code",
   "execution_count": 1,
   "metadata": {
    "deletable": false,
    "editable": false,
    "id": "3UoqNvKED4C5",
    "nbgrader": {
     "cell_type": "code",
     "checksum": "e0def778cd44d45156db082841ee5099",
     "grade": false,
     "grade_id": "cell-b81a3770cef9f5e1",
     "locked": true,
     "schema_version": 3,
     "solution": false
    }
   },
   "outputs": [],
   "source": [
    "## Imports\n",
    "import numpy as np\n",
    "import matplotlib.pyplot as plt"
   ]
  },
  {
   "cell_type": "markdown",
   "metadata": {
    "deletable": false,
    "editable": false,
    "id": "jjUeUxFimK7O",
    "nbgrader": {
     "cell_type": "markdown",
     "checksum": "d770571899f1bcae6bdccce4920c8b9e",
     "grade": false,
     "grade_id": "cell-58dedfa547b367ff",
     "locked": true,
     "schema_version": 3,
     "solution": false
    }
   },
   "source": [
    "# PCA with Linear Data\n",
    "\n",
    "Before diving deep into non-linear data, let us revisit the linear data and implementation of PCA on linear data. Principal Component is a dimensionality reduction technique that can also be widely used for visualization, noise filtering, feature extraction engineering, and so on. \n",
    "\n",
    "First, we will see how PCA reduces the dimension of linear data from two dimensions to one dimension."
   ]
  },
  {
   "cell_type": "code",
   "execution_count": 2,
   "metadata": {
    "deletable": false,
    "editable": false,
    "id": "Bo_DoeiMo7WU",
    "nbgrader": {
     "cell_type": "code",
     "checksum": "0e2a53ea78373c695adf771943c5cb76",
     "grade": false,
     "grade_id": "cell-cdb968e525d5c7c7",
     "locked": true,
     "schema_version": 3,
     "solution": false
    }
   },
   "outputs": [
    {
     "data": {
      "image/png": "[encoded data removed]",
      "text/plain": [
       "<Figure size 432x288 with 1 Axes>"
      ]
     },
     "metadata": {
      "needs_background": "light"
     },
     "output_type": "display_data"
    }
   ],
   "source": [
    "## Generate synthetic linear data\n",
    "seed = np.random.RandomState(12)\n",
    "X = np.dot(seed.rand(2, 2), seed.randn(2, 500)).T\n",
    "plt.scatter(X[:, 0], X[:, 1])\n",
    "plt.title(\"Linear Data\")\n",
    "plt.xlabel(\"1st Dimension\")\n",
    "plt.ylabel(\"2nd Dimension\")\n",
    "plt.axis('equal');"
   ]
  },
  {
   "cell_type": "markdown",
   "metadata": {
    "deletable": false,
    "editable": false,
    "id": "tKpB7O33ZAD5",
    "nbgrader": {
     "cell_type": "markdown",
     "checksum": "4118f29e564297c3fdd940e7afe9c798",
     "grade": false,
     "grade_id": "cell-2b865787d851716f",
     "locked": true,
     "schema_version": 3,
     "solution": false
    }
   },
   "source": [
    "This is an example of linear data. Using Scikit-Learn's PCA estimator, we can compute the principal components as:"
   ]
  },
  {
   "cell_type": "code",
   "execution_count": 3,
   "metadata": {
    "deletable": false,
    "editable": false,
    "id": "skAsJ6wGqQFW",
    "nbgrader": {
     "cell_type": "code",
     "checksum": "72ddb904dd7a33ef67c0870ce8857d23",
     "grade": false,
     "grade_id": "cell-e161bf3c6a7f9cb0",
     "locked": true,
     "schema_version": 3,
     "solution": false
    }
   },
   "outputs": [
    {
     "data": {
      "text/plain": [
       "PCA(n_components=2)"
      ]
     },
     "execution_count": 3,
     "metadata": {},
     "output_type": "execute_result"
    }
   ],
   "source": [
    "from sklearn.decomposition import PCA\n",
    "\n",
    "pca = PCA(n_components=2)\n",
    "pca.fit(X)"
   ]
  },
  {
   "cell_type": "markdown",
   "metadata": {
    "deletable": false,
    "editable": false,
    "id": "EOfSh_vMabhJ",
    "nbgrader": {
     "cell_type": "markdown",
     "checksum": "40f67c5e080e4127fb85f09a0b7d12d6",
     "grade": false,
     "grade_id": "cell-ab664893a6debde3",
     "locked": true,
     "schema_version": 3,
     "solution": false
    }
   },
   "source": [
    "Now, we will extract eigenvectors from the PCA function fitted on the data, X. Furthermore, we will plot the principal components on the original data."
   ]
  },
  {
   "cell_type": "code",
   "execution_count": 4,
   "metadata": {
    "deletable": false,
    "editable": false,
    "id": "Clh0L5_zrYtx",
    "nbgrader": {
     "cell_type": "code",
     "checksum": "4bd1980a7e9f0ea99c83a39611b08efd",
     "grade": false,
     "grade_id": "cell-2aa7b3cb9a13a56e",
     "locked": true,
     "schema_version": 3,
     "solution": false
    }
   },
   "outputs": [],
   "source": [
    "eig_vectors = pca.components_\n",
    "eig_vec1 = eig_vectors[0]\n",
    "eig_vec2 = eig_vectors[1]"
   ]
  },
  {
   "cell_type": "code",
   "execution_count": 5,
   "metadata": {
    "deletable": false,
    "editable": false,
    "id": "OsulEIIqsUim",
    "nbgrader": {
     "cell_type": "code",
     "checksum": "fef62168ff9f96777c9bd46875f8f998",
     "grade": false,
     "grade_id": "cell-c613afdb1738feab",
     "locked": true,
     "schema_version": 3,
     "solution": false
    }
   },
   "outputs": [
    {
     "data": {
      "image/png": "[encoded data removed]",
      "text/plain": [
       "<Figure size 432x288 with 1 Axes>"
      ]
     },
     "metadata": {
      "needs_background": "light"
     },
     "output_type": "display_data"
    }
   ],
   "source": [
    "# # plot data\n",
    "origin =[0,0]\n",
    "plt.scatter(X[:, 0], X[:, 1], alpha=0.2)\n",
    "\n",
    "plt.quiver(*origin, *eig_vec1, scale=3)\n",
    "plt.quiver(*origin, *eig_vec2, scale=3)\n",
    "\n",
    "plt.title(\"Principal Components for Linear Data\")\n",
    "plt.xlabel(\"1st Dimension\")\n",
    "plt.ylabel(\"2nd Dimension\")\n",
    "plt.axis('equal');"
   ]
  },
  {
   "cell_type": "markdown",
   "metadata": {
    "deletable": false,
    "editable": false,
    "id": "UyKLmdgobKjI",
    "nbgrader": {
     "cell_type": "markdown",
     "checksum": "25e73c376b63362db85eb9aedaaed168",
     "grade": false,
     "grade_id": "cell-54bc4952dd87ab40",
     "locked": true,
     "schema_version": 3,
     "solution": false
    }
   },
   "source": [
    "The arrows in the graph are the two principal components. The principal components are orthogonal to each other. The direction of the principal components denotes the direction of the highest variance."
   ]
  },
  {
   "cell_type": "markdown",
   "metadata": {
    "deletable": false,
    "editable": false,
    "id": "yDw7_DDJWvws",
    "nbgrader": {
     "cell_type": "markdown",
     "checksum": "bcfe958b9579409334a9a7f1fd3807e0",
     "grade": false,
     "grade_id": "cell-c8dca33ce664c8a3",
     "locked": true,
     "schema_version": 3,
     "solution": false
    }
   },
   "source": [
    "## Dimensionality Reduction with PCA\n",
    "\n",
    "Now that we have found the direction of the highest variance in the dataset through the principal components. Dimensionality reduction involves zeroing out one or more of the smallest principal components, resulting in a lower-dimensional projection of the data that preserves the maximal data variance."
   ]
  },
  {
   "cell_type": "code",
   "execution_count": 6,
   "metadata": {
    "deletable": false,
    "editable": false,
    "id": "U4Y_qWtaIzSA",
    "nbgrader": {
     "cell_type": "code",
     "checksum": "2640e2039bc5bc2b55fef6c048da8cba",
     "grade": false,
     "grade_id": "cell-6b25391b8e40efd7",
     "locked": true,
     "schema_version": 3,
     "solution": false
    }
   },
   "outputs": [
    {
     "name": "stdout",
     "output_type": "stream",
     "text": [
      "original shape:    (500, 2)\n",
      "transformed shape: (500, 1)\n"
     ]
    }
   ],
   "source": [
    "pca = PCA(n_components=1)\n",
    "pca.fit(X)\n",
    "X_pca = pca.transform(X)\n",
    "print(\"original shape:   \", X.shape)\n",
    "print(\"transformed shape:\", X_pca.shape)"
   ]
  },
  {
   "cell_type": "markdown",
   "metadata": {
    "deletable": false,
    "editable": false,
    "id": "YQMJGIOQcKcS",
    "nbgrader": {
     "cell_type": "markdown",
     "checksum": "bb0f6ba12f3380303097095cdfb5f8f0",
     "grade": false,
     "grade_id": "cell-3037ab7ba18d484b",
     "locked": true,
     "schema_version": 3,
     "solution": false
    }
   },
   "source": [
    "The transformed data is now reduced to a single dimension from two-dimension. With this, the data to be stored is reduced. Now, we will reconstruct the dataset with this reduced dimension. Let us see how the reduction in dimension effects in restoring the original dataset."
   ]
  },
  {
   "cell_type": "code",
   "execution_count": 7,
   "metadata": {
    "id": "Ej5VZbTGQCiC"
   },
   "outputs": [
    {
     "data": {
      "image/png": "[encoded data removed]",
      "text/plain": [
       "<Figure size 432x288 with 1 Axes>"
      ]
     },
     "metadata": {
      "needs_background": "light"
     },
     "output_type": "display_data"
    }
   ],
   "source": [
    "X_new = pca.inverse_transform(X_pca)\n",
    "\n",
    "plt.scatter(X[:, 0], X[:, 1], alpha=0.2)\n",
    "plt.scatter(X_new[:, 0], X_new[:, 1], color =\"black\")\n",
    "plt.legend(labels=['Original Data', 'Projected Version'], loc=4)\n",
    "plt.axis('equal');"
   ]
  },
  {
   "cell_type": "markdown",
   "metadata": {
    "deletable": false,
    "editable": false,
    "id": "o62qtGTkednQ",
    "nbgrader": {
     "cell_type": "markdown",
     "checksum": "1ea207110ebd02f9fe7922de190e69dd",
     "grade": false,
     "grade_id": "cell-6e9e07323d418c20",
     "locked": true,
     "schema_version": 3,
     "solution": false
    }
   },
   "source": [
    "In the above figure, the light blue points indicate the original dataset. Similarly, the dark black points are the projected version of the original dataset, one dimensional.\n",
    "\n",
    "This reduced-dimension dataset is, in some senses, \"good enough\" to encode the most important relationships between the points."
   ]
  },
  {
   "cell_type": "markdown",
   "metadata": {
    "deletable": false,
    "editable": false,
    "id": "ypFgCuMkFtVb",
    "nbgrader": {
     "cell_type": "markdown",
     "checksum": "fab6e06f28f327fe10d867c514b3cf1b",
     "grade": false,
     "grade_id": "cell-ace21bf326162bcb",
     "locked": true,
     "schema_version": 3,
     "solution": false
    }
   },
   "source": [
    "# PCA with Non-Linear Data\n",
    "\n",
    "Till now, we saw classical PCA. Classical Principal Component Analysis (PCA) is good at reducing the dimensions but works linearly. If the data is not organized linearly, PCA fails to do the required job. This is where Kernel PCA comes in.\n",
    "\n",
    "\n",
    "\n",
    "For this assignment, we will generate a nonlinear data through `make_circles` function provided by `sklearn.datasets.` The seed value for the random number generator is defined to reproduce the same set of points on each random number generator execution. "
   ]
  },
  {
   "cell_type": "markdown",
   "metadata": {
    "deletable": false,
    "editable": false,
    "id": "_uHYXX4nIVV9",
    "nbgrader": {
     "cell_type": "markdown",
     "checksum": "21a95fe6c72e80ff3799eef1274c6870",
     "grade": false,
     "grade_id": "cell-1a762f993c46e5b9",
     "locked": true,
     "schema_version": 3,
     "solution": false
    }
   },
   "source": [
    "\n",
    "\n",
    "## **Exercise 1: Generate Non Linear data samples**\n",
    "\n",
    "**[UNGRADED]**\n",
    "\n",
    "\n",
    "\n"
   ]
  },
  {
   "cell_type": "code",
   "execution_count": 8,
   "metadata": {
    "deletable": false,
    "editable": false,
    "id": "5D78V_ffut57",
    "nbgrader": {
     "cell_type": "code",
     "checksum": "7f54a98e3b6e0ca69c7c332fb2e4426f",
     "grade": false,
     "grade_id": "cell-b33b75380fbadd54",
     "locked": true,
     "schema_version": 3,
     "solution": false
    }
   },
   "outputs": [],
   "source": [
    "from sklearn.datasets import make_circles\n",
    "\n",
    "## Set the seed for random number generator\n",
    "np.random.seed(7)"
   ]
  },
  {
   "cell_type": "markdown",
   "metadata": {
    "deletable": false,
    "editable": false,
    "id": "1b5C98L5GkAk",
    "nbgrader": {
     "cell_type": "markdown",
     "checksum": "82357e12d8debaf9353ab3287832ee1a",
     "grade": false,
     "grade_id": "cell-1d0373fc1442bb0d",
     "locked": true,
     "schema_version": 3,
     "solution": false
    }
   },
   "source": [
    "\n",
    "\n",
    "\n",
    "Now that the seed is defined, let us proceed to the generation of non-linear data. Since the main aim of this assignment is to demonstrate the linear PCA and Kernel PCA on non-linear data, we need non-linear data samples.\n",
    "\n",
    "**Task:**\n",
    "\n",
    "- Generate $500$ data samples with `make_circles()` that is distributed in concentric circles with factor $0.2$ and noise $0.02$.\n",
    "\n",
    "\n",
    "\n",
    "\n",
    "__Note__:\n",
    "\n",
    "- `factor` is the parameter of `make_circles,` which is the scale factor between the inner and outer circle. Default value is $0.8$.\n",
    "\n",
    "- `noise` is the parameter of `make_circles,` which is the standard deviation of Gaussian noise added to the data."
   ]
  },
  {
   "cell_type": "code",
   "execution_count": 9,
   "metadata": {
    "deletable": false,
    "id": "HzKYISr4uxqt",
    "nbgrader": {
     "cell_type": "code",
     "checksum": "12f19a551086535ff2768c1d891ede83",
     "grade": false,
     "grade_id": "cell-ca7a5579ce533fa4",
     "locked": false,
     "schema_version": 3,
     "solution": true
    },
    "tags": [
     "Ex-1-Task-1"
    ]
   },
   "outputs": [],
   "source": [
    "### Ex-1-Task-1\n",
    "\n",
    "## Generate Samples\n",
    "X, y = None, None\n",
    "\n",
    "## (~ 1 line of code)\n",
    "### BEGIN SOLUTION\n",
    "# your code here\n",
    "X, y = make_circles(n_samples=500, factor=0.2, noise=0.02)\n",
    "### END SOLUTION"
   ]
  },
  {
   "cell_type": "code",
   "execution_count": 10,
   "metadata": {
    "deletable": false,
    "editable": false,
    "id": "LlztBauW-alj",
    "nbgrader": {
     "cell_type": "code",
     "checksum": "ac511d6b6436be4e2ba78fea23e245e2",
     "grade": false,
     "grade_id": "cell-8b0b96bae11de7b8",
     "locked": true,
     "schema_version": 3,
     "solution": false
    }
   },
   "outputs": [],
   "source": [
    "assert X is not None, 'Invalid dataset!'\n",
    "assert y is not None, 'Invalid dataset!'"
   ]
  },
  {
   "cell_type": "code",
   "execution_count": 11,
   "metadata": {
    "deletable": false,
    "editable": false,
    "id": "zQu-8xiy8iko",
    "nbgrader": {
     "cell_type": "code",
     "checksum": "c14868a8a8e3117a7c81d2d7bac53b78",
     "grade": true,
     "grade_id": "cell-1274f6fe6b77e6db",
     "locked": true,
     "points": 0,
     "schema_version": 3,
     "solution": false
    },
    "tags": [
     "Ex-1-Task-1"
    ]
   },
   "outputs": [],
   "source": [
    "### Intentionally Left Blank"
   ]
  },
  {
   "cell_type": "markdown",
   "metadata": {
    "deletable": false,
    "editable": false,
    "id": "GJsmHLfD-tGE",
    "nbgrader": {
     "cell_type": "markdown",
     "checksum": "5c14c273438f0254b1a1c22bf3d78b0f",
     "grade": false,
     "grade_id": "cell-55733665a1021dbb",
     "locked": true,
     "schema_version": 3,
     "solution": false
    }
   },
   "source": [
    "# Visualise Non Linear Data"
   ]
  },
  {
   "cell_type": "code",
   "execution_count": 12,
   "metadata": {
    "deletable": false,
    "editable": false,
    "id": "GyeE4-zVbAux",
    "nbgrader": {
     "cell_type": "code",
     "checksum": "9500dd9f119a2b7fa52c422eb9aa1b94",
     "grade": false,
     "grade_id": "cell-7bef83936e2f8007",
     "locked": true,
     "schema_version": 3,
     "solution": false
    }
   },
   "outputs": [
    {
     "data": {
      "image/png": "[encoded data removed]",
      "text/plain": [
       "<Figure size 432x288 with 1 Axes>"
      ]
     },
     "metadata": {
      "needs_background": "light"
     },
     "output_type": "display_data"
    }
   ],
   "source": [
    "## Plot original non linear data\n",
    "plt.title(\"Original Data\")\n",
    "plt.scatter(X[y==0, 0], X[y==0, 1], color='red', alpha=0.5)\n",
    "plt.scatter(X[y==1, 0], X[y==1, 1], color='blue', alpha=0.5)\n",
    "\n",
    "plt.xlabel(\"1st Dimension\");\n",
    "plt.ylabel(\"2nd Dimension\");"
   ]
  },
  {
   "cell_type": "markdown",
   "metadata": {
    "deletable": false,
    "editable": false,
    "id": "v9PClxmoIdD0",
    "nbgrader": {
     "cell_type": "markdown",
     "checksum": "bfbb588cdf639322ef968fa4fe01702c",
     "grade": false,
     "grade_id": "cell-ee8744a28ac8b4f2",
     "locked": true,
     "schema_version": 3,
     "solution": false
    }
   },
   "source": [
    "This is a linearly inseparable data with two classes. In this case, classical PCA does not perform does not work well. Let us see how classical PCA fails to operate in nonlinear data."
   ]
  },
  {
   "cell_type": "code",
   "execution_count": 13,
   "metadata": {
    "deletable": false,
    "editable": false,
    "id": "viWURHddu_FP",
    "nbgrader": {
     "cell_type": "code",
     "checksum": "08d84643ac5c6cebdf63449af53b6808",
     "grade": false,
     "grade_id": "cell-d242e167599f9224",
     "locked": true,
     "schema_version": 3,
     "solution": false
    }
   },
   "outputs": [],
   "source": [
    "## Perform classical PCA\n",
    "pca = PCA()\n",
    "X_pca = pca.fit_transform(X)"
   ]
  },
  {
   "cell_type": "code",
   "execution_count": 14,
   "metadata": {
    "deletable": false,
    "editable": false,
    "id": "tu8QfKPaYX0S",
    "nbgrader": {
     "cell_type": "code",
     "checksum": "2a14aad4b96f181412b9cf494fc77b71",
     "grade": false,
     "grade_id": "cell-bd7e6dfcf1a530bc",
     "locked": true,
     "schema_version": 3,
     "solution": false
    }
   },
   "outputs": [],
   "source": [
    "eig_vectors = pca.components_\n",
    "eig_vec1 = eig_vectors[0]\n",
    "eig_vec2 = eig_vectors[1]"
   ]
  },
  {
   "cell_type": "code",
   "execution_count": 15,
   "metadata": {
    "deletable": false,
    "editable": false,
    "id": "oGhc0JRUxejB",
    "nbgrader": {
     "cell_type": "code",
     "checksum": "0443cbb1bd378ae39b7271540fed111a",
     "grade": false,
     "grade_id": "cell-8c517396acee6cfa",
     "locked": true,
     "schema_version": 3,
     "solution": false
    }
   },
   "outputs": [
    {
     "data": {
      "image/png": "[encoded data removed]",
      "text/plain": [
       "<Figure size 432x288 with 1 Axes>"
      ]
     },
     "metadata": {
      "needs_background": "light"
     },
     "output_type": "display_data"
    }
   ],
   "source": [
    "## Plot the projection of data\n",
    "# plt.figure()\n",
    "plt.scatter(X_pca[y==0, 0], X_pca[y==0, 1], color='red', alpha=0.1)\n",
    "plt.scatter(X_pca[y==1, 0], X_pca[y==1, 1], color='blue', alpha=0.1)\n",
    "\n",
    "plt.quiver(*origin, *eig_vec1, scale=3)\n",
    "plt.quiver(*origin, *eig_vec2, scale=3)\n",
    "\n",
    "plt.title(\"Data transformed using PCA\");\n",
    "plt.xlabel(\"1st Principal Component\");\n",
    "plt.ylabel(\"2nd Principal Component\");"
   ]
  },
  {
   "cell_type": "markdown",
   "metadata": {
    "deletable": false,
    "editable": false,
    "id": "g3Wue6FKFcIk",
    "nbgrader": {
     "cell_type": "markdown",
     "checksum": "b76995c7f45ef6ee0d9ddfee6bb254f7",
     "grade": false,
     "grade_id": "cell-325e43935ff4c1b2",
     "locked": true,
     "schema_version": 3,
     "solution": false
    }
   },
   "source": [
    "The principal components with classical PCA are unable to project into the direction of the highest variances. If we reduce the dimension of the data and project the original data with only the first principal component, we get the result below:"
   ]
  },
  {
   "cell_type": "code",
   "execution_count": 16,
   "metadata": {
    "deletable": false,
    "editable": false,
    "id": "OYyPTx0DFH7-",
    "nbgrader": {
     "cell_type": "code",
     "checksum": "0bec7334a3d0890e936bdd8653ae3a3c",
     "grade": false,
     "grade_id": "cell-0abf668a01ff8bd3",
     "locked": true,
     "schema_version": 3,
     "solution": false
    }
   },
   "outputs": [
    {
     "data": {
      "image/png": "[encoded data removed]",
      "text/plain": [
       "<Figure size 432x288 with 1 Axes>"
      ]
     },
     "metadata": {
      "needs_background": "light"
     },
     "output_type": "display_data"
    }
   ],
   "source": [
    "pca = PCA(n_components=1)\n",
    "pca.fit(X)\n",
    "X_pca = pca.transform(X)\n",
    "X_new = pca.inverse_transform(X_pca)\n",
    "\n",
    "plt.scatter(X_new[y==0, 0], X_new[y==0, 1], color='red')\n",
    "plt.scatter(X_new[y==1, 0], X_new[y==1, 1], color='blue')\n",
    "plt.title(\"First Principal Component after classical PCA\")\n",
    "plt.xlabel('PC1')\n",
    "plt.axis('equal');"
   ]
  },
  {
   "cell_type": "markdown",
   "metadata": {
    "deletable": false,
    "editable": false,
    "id": "dYJnX7wTJVhX",
    "nbgrader": {
     "cell_type": "markdown",
     "checksum": "2e25b6467d41e13a7851aa6a231b915a",
     "grade": false,
     "grade_id": "cell-d44a6831640ca2ea",
     "locked": true,
     "schema_version": 3,
     "solution": false
    }
   },
   "source": [
    "The results obtained via the linear PCA (classical PCA) approach does not produce a subspace where the two classes are linearly well separated.\n",
    "\n",
    "Hence, a nonlinear technique is required if the task is to reduce the dimensionality of nonlinear data. There is a basic idea to deal with such non linearly separable dataset. That is to project it onto a higher dimensional space where it becomes linearly separable. This is popularly called _Kernel_ trick. By using kernel\n",
    "functions, one can efficiently compute principal components in high\n",
    "dimensional feature spaces, related to input space by some nonlinear\n",
    "map. Some of the kernel functions are _polynomial_, _rbf(radial basis function)_, _sigmoid_, and others."
   ]
  },
  {
   "cell_type": "markdown",
   "metadata": {
    "deletable": false,
    "editable": false,
    "id": "pkPdVHMCC9OB",
    "nbgrader": {
     "cell_type": "markdown",
     "checksum": "8ea1cec5c8c35c63cecb8536762f686f",
     "grade": false,
     "grade_id": "cell-d22e38f637894683",
     "locked": true,
     "schema_version": 3,
     "solution": false
    }
   },
   "source": [
    "## **Exercise 2: Build a Kernel PCA model**  \n",
    "\n",
    "**[Points: 5]**\n",
    "\n",
    "Here you will build a kernel PCA model.\n",
    "\n",
    "**Task:**\n",
    "\n",
    "- Import Kernel PCA from sklearn\n",
    "\n",
    "- Using Scikit-Learn's KernelPCA estimator, build a model with parameters `kernel`rbf and `gamma` $10$. Set the parameter `fit_inverse_transform` to True."
   ]
  },
  {
   "cell_type": "code",
   "execution_count": 17,
   "metadata": {
    "deletable": false,
    "id": "SUOs1ZAzySjM",
    "nbgrader": {
     "cell_type": "code",
     "checksum": "369684c2741dd409df189f91e15c2231",
     "grade": false,
     "grade_id": "cell-6c0fd76e47674d72",
     "locked": false,
     "schema_version": 3,
     "solution": true
    },
    "tags": [
     "Ex-2-Task-1"
    ]
   },
   "outputs": [],
   "source": [
    "### Ex-2-Task-1\n",
    "\n",
    "## Import Kernel PCA from scikit learn and build a model(~2 line of code)\n",
    "\n",
    "kernel_pca = None\n",
    "\n",
    "## (~ 2 line of code)\n",
    "### BEGIN SOLUTION\n",
    "# your code here\n",
    "from sklearn.decomposition import KernelPCA\n",
    "kernel_pca = KernelPCA(kernel='rbf', gamma=10, fit_inverse_transform=True)\n",
    "### END SOLUTION\n",
    "\n",
    "X_kernel_pca = kernel_pca.fit_transform(X)"
   ]
  },
  {
   "cell_type": "code",
   "execution_count": 18,
   "metadata": {
    "deletable": false,
    "editable": false,
    "id": "eufMflYNPBYC",
    "nbgrader": {
     "cell_type": "code",
     "checksum": "862874dc0d72fd279f456a6275d63d35",
     "grade": false,
     "grade_id": "cell-d7485d205018dd64",
     "locked": true,
     "schema_version": 3,
     "solution": false
    }
   },
   "outputs": [],
   "source": [
    "assert kernel_pca is not None, 'Invalid model!'"
   ]
  },
  {
   "cell_type": "code",
   "execution_count": 19,
   "metadata": {
    "deletable": false,
    "editable": false,
    "id": "KsmuDpmH8ilH",
    "nbgrader": {
     "cell_type": "code",
     "checksum": "eed0c1c9ea0d2f0c1d17276184ab085a",
     "grade": true,
     "grade_id": "cell-c0f760146b90f0a0",
     "locked": true,
     "points": 5,
     "schema_version": 3,
     "solution": false
    },
    "tags": [
     "Ex-2-Task-1"
    ]
   },
   "outputs": [],
   "source": [
    "### Intentionally Left Blank\n"
   ]
  },
  {
   "cell_type": "markdown",
   "metadata": {
    "deletable": false,
    "editable": false,
    "id": "bEeB_22JAWyr",
    "nbgrader": {
     "cell_type": "markdown",
     "checksum": "967ed02f723b2a5ff3cb52ec6000a61f",
     "grade": false,
     "grade_id": "cell-abd245253eeda95a",
     "locked": true,
     "schema_version": 3,
     "solution": false
    }
   },
   "source": [
    "Now, we will plot the kernel PCA projection of the data into higher dimension (defult is three dimensional). "
   ]
  },
  {
   "cell_type": "code",
   "execution_count": 20,
   "metadata": {
    "deletable": false,
    "editable": false,
    "id": "E1gvYreBzn-A",
    "nbgrader": {
     "cell_type": "code",
     "checksum": "d1b820efb2e06a2919b7f0121a861b66",
     "grade": false,
     "grade_id": "cell-25c6888fc89a13d0",
     "locked": true,
     "schema_version": 3,
     "solution": false
    }
   },
   "outputs": [
    {
     "data": {
      "text/plain": [
       "Text(0.5, 1.0, 'Data transformed using Kernel PCA')"
      ]
     },
     "execution_count": 20,
     "metadata": {},
     "output_type": "execute_result"
    },
    {
     "data": {
      "image/png": "[encoded data removed]",
      "text/plain": [
       "<Figure size 432x288 with 1 Axes>"
      ]
     },
     "metadata": {
      "needs_background": "light"
     },
     "output_type": "display_data"
    }
   ],
   "source": [
    "## Plot kernel PCA projection of the data\n",
    "plt.figure()\n",
    "\n",
    "plt.scatter(X_kernel_pca[y==0, 0], X_kernel_pca[y==0, 1], color='red')\n",
    "plt.scatter(X_kernel_pca[y==1, 0], X_kernel_pca[y==1, 1], color='blue')\n",
    "\n",
    "plt.title(\"Data transformed using Kernel PCA\")"
   ]
  },
  {
   "cell_type": "markdown",
   "metadata": {
    "deletable": false,
    "editable": false,
    "id": "H6a8F8pGF6Qe",
    "nbgrader": {
     "cell_type": "markdown",
     "checksum": "de169ade86954a813014c0e0367a340b",
     "grade": false,
     "grade_id": "cell-81c17cc15de33841",
     "locked": true,
     "schema_version": 3,
     "solution": false
    }
   },
   "source": [
    "Using the gaussian radial basis function, we can project the data into a high dimension (three dimensions) where it becomes linearly separable. We will decrease the dimension of the dataset to one dimension with the help of the first principal component. In this case, the original dataset becomes the one that is projected to the higher dimension. So, we fit and transform into X_kernel_pca, not X!"
   ]
  },
  {
   "cell_type": "code",
   "execution_count": 21,
   "metadata": {
    "deletable": false,
    "editable": false,
    "id": "tm4L4U11E_GV",
    "nbgrader": {
     "cell_type": "code",
     "checksum": "9971ede215735f3e202b88f01b45bdfc",
     "grade": false,
     "grade_id": "cell-7ed19ea5d992db7f",
     "locked": true,
     "schema_version": 3,
     "solution": false
    }
   },
   "outputs": [
    {
     "data": {
      "image/png": "[encoded data removed]",
      "text/plain": [
       "<Figure size 432x288 with 1 Axes>"
      ]
     },
     "metadata": {
      "needs_background": "light"
     },
     "output_type": "display_data"
    }
   ],
   "source": [
    "pca = KernelPCA(kernel = \"linear\", fit_inverse_transform=True,  n_components=1)\n",
    "pca.fit(X_kernel_pca)\n",
    "X_pca = pca.transform(X_kernel_pca)\n",
    "X_new = pca.inverse_transform(X_pca)\n",
    "\n",
    "plt.scatter(X_new[y==0, 0], X_new[y==0, 1], color='red')\n",
    "plt.scatter(X_new[y==1, 0], X_new[y==1, 1], color='blue')\n",
    "plt.title(\"First Principal Component after rbf kernel PCA\")\n",
    "plt.xlabel('PC1')\n",
    "plt.axis('equal');"
   ]
  },
  {
   "cell_type": "markdown",
   "metadata": {
    "deletable": false,
    "editable": false,
    "id": "iGrbANwuAvQn",
    "nbgrader": {
     "cell_type": "markdown",
     "checksum": "816e4b04c2e8c02742f004c29fbd5852",
     "grade": false,
     "grade_id": "cell-0b87c2031f40db4a",
     "locked": true,
     "schema_version": 3,
     "solution": false
    }
   },
   "source": [
    "Again, this 1-dimensional subspace obtained via Gaussian RBF kernel PCA looks much better in terms of linear class separation\n",
    "."
   ]
  },
  {
   "cell_type": "markdown",
   "metadata": {
    "deletable": false,
    "editable": false,
    "id": "ldkvMCKkQ4Jh",
    "nbgrader": {
     "cell_type": "markdown",
     "checksum": "5cbae5eb3345a9f49f2376d406550363",
     "grade": false,
     "grade_id": "cell-b500509046b5a9b4",
     "locked": true,
     "schema_version": 3,
     "solution": false
    }
   },
   "source": [
    "## **Exercise 3: Tranform the data back to original space**  \n",
    "\n",
    "**[Points: 5]**\n",
    "\n",
    "Now, let's transform data back to the original subspace (two dimension) using the kernel method to show the inverse is maintained.\n",
    "\n",
    "**Task:**\n",
    "\n",
    "- Perform `inverse_transform` for _kernel_pca_ with *X_kernel_pca* to regain the original data."
   ]
  },
  {
   "cell_type": "code",
   "execution_count": 22,
   "metadata": {
    "deletable": false,
    "id": "bzCJhm56z9gU",
    "nbgrader": {
     "cell_type": "code",
     "checksum": "cd8247a1a3b3e5243171ed4b45eb293c",
     "grade": false,
     "grade_id": "cell-7964e8fb1684ba85",
     "locked": false,
     "schema_version": 3,
     "solution": true
    },
    "tags": [
     "Ex-3-Task-1"
    ]
   },
   "outputs": [
    {
     "name": "stdout",
     "output_type": "stream",
     "text": [
      "transformed shape: (500, 2)\n"
     ]
    }
   ],
   "source": [
    "### Ex-3-Task-1\n",
    "\n",
    "## Transform the data back to the original space\n",
    "\n",
    "X_inverse_original = None\n",
    "\n",
    "## (~ 1 line of code)\n",
    "### BEGIN SOLUTION\n",
    "# your code here\n",
    "X_inverse_original = kernel_pca.inverse_transform(X_kernel_pca)\n",
    "### END SOLUTION\n",
    "\n",
    "print(\"transformed shape:\", X_inverse_original.shape)"
   ]
  },
  {
   "cell_type": "code",
   "execution_count": 23,
   "metadata": {
    "deletable": false,
    "editable": false,
    "id": "XJ6STHsNBJJF",
    "nbgrader": {
     "cell_type": "code",
     "checksum": "8a444db090875990e61619afcf60639c",
     "grade": false,
     "grade_id": "cell-61ab1853c8018cf6",
     "locked": true,
     "schema_version": 3,
     "solution": false
    }
   },
   "outputs": [],
   "source": [
    "assert X_inverse_original is not None, 'Invalid model!'"
   ]
  },
  {
   "cell_type": "code",
   "execution_count": 24,
   "metadata": {
    "deletable": false,
    "editable": false,
    "id": "H1AwbcVY8ila",
    "nbgrader": {
     "cell_type": "code",
     "checksum": "aab4047a0e0005d7bcbf3c16a6163c7a",
     "grade": true,
     "grade_id": "cell-0f143035296ff650",
     "locked": true,
     "points": 5,
     "schema_version": 3,
     "solution": false
    },
    "tags": [
     "Ex-2-Task-1"
    ]
   },
   "outputs": [],
   "source": [
    "### Intentionally Left Blank\n"
   ]
  },
  {
   "cell_type": "code",
   "execution_count": 25,
   "metadata": {
    "deletable": false,
    "editable": false,
    "id": "in9Z7L2OfdEg",
    "nbgrader": {
     "cell_type": "code",
     "checksum": "9d63b3777aa10253b449d55df6c1ab3d",
     "grade": false,
     "grade_id": "cell-60de41078ffa0787",
     "locked": true,
     "schema_version": 3,
     "solution": false
    }
   },
   "outputs": [
    {
     "data": {
      "image/png": "[encoded data removed]",
      "text/plain": [
       "<Figure size 432x288 with 1 Axes>"
      ]
     },
     "metadata": {
      "needs_background": "light"
     },
     "output_type": "display_data"
    }
   ],
   "source": [
    "plt.figure()\n",
    "\n",
    "plt.scatter(X_inverse_original[y==0, 0], X_inverse_original[y==0, 1], color='red')\n",
    "plt.scatter(X_inverse_original[y==1, 0], X_inverse_original[y==1, 1], color='blue')\n",
    "\n",
    "plt.title(\"Inverse Transform\")\n",
    "plt.xlabel(\"1st Dimension\");\n",
    "plt.ylabel(\"2nd Dimension\");"
   ]
  },
  {
   "cell_type": "markdown",
   "metadata": {
    "deletable": false,
    "editable": false,
    "id": "YaLbXj98O_St",
    "nbgrader": {
     "cell_type": "markdown",
     "checksum": "cfcfdbed61b39e61dfdf93a13dd2c57d",
     "grade": false,
     "grade_id": "cell-0df2424fce72ce97",
     "locked": true,
     "schema_version": 3,
     "solution": false
    }
   },
   "source": [
    "Hence, the original data is regained with the inverse operation even if we project the data into higher dimensions with kernel trick."
   ]
  },
  {
   "cell_type": "markdown",
   "metadata": {
    "deletable": false,
    "editable": false,
    "id": "X63NqJN4oAmN",
    "nbgrader": {
     "cell_type": "markdown",
     "checksum": "00fa9c666e9e24e8b7327f8f9c2cf797",
     "grade": false,
     "grade_id": "cell-a3fdf988e61f60ad",
     "locked": true,
     "schema_version": 3,
     "solution": false
    }
   },
   "source": [
    "# Additional Resources\n",
    "\n",
    "- Articles\n",
    "  - Kernel tricks and nonlinear dimensionality reduction via RBF kernel PCA (2014) by Sebastian Raschka.\n",
    "    - https://sebastianraschka.com/Articles/2014_kernel_pca.html"
   ]
  }
 ],
 "metadata": {
  "colab": {
   "collapsed_sections": [],
   "name": "PCA_Student.ipynb",
   "provenance": []
  },
  "kernelspec": {
   "display_name": "Python 3 (ipykernel)",
   "language": "python",
   "name": "python3"
  },
  "language_info": {
   "codemirror_mode": {
    "name": "ipython",
    "version": 3
   },
   "file_extension": ".py",
   "mimetype": "text/x-python",
   "name": "python",
   "nbconvert_exporter": "python",
   "pygments_lexer": "ipython3",
   "version": "3.9.12"
  }
 },
 "nbformat": 4,
 "nbformat_minor": 1
}
